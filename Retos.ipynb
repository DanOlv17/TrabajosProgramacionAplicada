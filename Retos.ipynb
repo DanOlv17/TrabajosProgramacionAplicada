{
 "cells": [
  {
   "cell_type": "code",
   "execution_count": 1,
   "metadata": {},
   "outputs": [],
   "source": [
    "import random"
   ]
  },
  {
   "cell_type": "code",
   "execution_count": 3,
   "metadata": {},
   "outputs": [
    {
     "name": "stdout",
     "output_type": "stream",
     "text": [
      "Numero elegido 25\n",
      "el numero esta entre 10-50\n"
     ]
    }
   ],
   "source": [
    "#reto No.6\n",
    "X= random.randint(1,120)\n",
    "print('Numero elegido',X)\n",
    "d={1:'el numero es menor de 10',2:'el numero esta entre 10-50',3:'el numero es menor de 51-100',4:'el numero es mayor que 100'}\n",
    "z=1+len([i for i in [9,50,100,121]if i<X])\n",
    "print(d[z])"
   ]
  },
  {
   "cell_type": "code",
   "execution_count": null,
   "metadata": {},
   "outputs": [],
   "source": [
    "#reto No.8\n",
    "print([i for i in range (10,21) if i%2==0])"
   ]
  },
  {
   "cell_type": "code",
   "execution_count": 7,
   "metadata": {},
   "outputs": [
    {
     "name": "stdout",
     "output_type": "stream",
     "text": [
      "5\n",
      "10\n",
      "15\n",
      "20\n",
      "25\n",
      "el total es: 75\n"
     ]
    }
   ],
   "source": [
    "#reto No.9\n",
    "total=0\n",
    "for x in range(1,26):\n",
    "    if x%5==0:\n",
    "        total+=x\n",
    "        print(x)\n",
    "print(\"el total es:\", total)"
   ]
  },
  {
   "cell_type": "code",
   "execution_count": null,
   "metadata": {},
   "outputs": [],
   "source": [
    "#reto No.10\n",
    "#La leyenda del tablero de ajedrez y los granos de trigo\n",
    "i=0\n",
    "s=0\n",
    "while i<64:\n",
    "    s+=2**i\n",
    "    print(i+1,2**i,s)\n",
    "    i+=1\n",
    "print('unos',int(round(s/25000000000000,0)),'millones de toneladas')\n",
    "print('en 2020, la produccion mundial de trigo fue de 772.64 millones de toneladas')\n",
    "print('Esto significa que la produccion mundial tendria que trabajar durante 954.99 años para complacer el deseo de Sissa, el sabio')"
   ]
  },
  {
   "cell_type": "code",
   "execution_count": null,
   "metadata": {},
   "outputs": [],
   "source": [
    "#reto No.13\n",
    "x=float(input(\"Ingrese el primer numero\"))\n",
    "y=float(input(\"ingrese el segundo numero\"))\n",
    "z=(x+y)/2\n",
    "print(\"el primer numero ingresado es:\",x)\n",
    "print(\"el segundo numero ingresado es:\",y)\n",
    "print(\"su media es:\",z)"
   ]
  },
  {
   "cell_type": "code",
   "execution_count": null,
   "metadata": {},
   "outputs": [],
   "source": [
    "#reto No.15\n",
    "numeros=[]\n",
    "print('para salir pulse enter o un caracter no numerico.')\n",
    "def is_number(s):\n",
    "    try:\n",
    "        float (s)\n",
    "        return True\n",
    "    except ValueError:\n",
    "        return False\n",
    "while True:\n",
    "        z=input('Introduzca un numero:')\n",
    "        if is_number(z):\n",
    "            numeros.append(float(z))\n",
    "        else:\n",
    "            break\n",
    "        print(numeros)\n",
    "        if len(numeros)!=0:\n",
    "            print('media =', sum(numeros)/len(numeros))"
   ]
  },
  {
   "cell_type": "code",
   "execution_count": null,
   "metadata": {},
   "outputs": [],
   "source": [
    "#reto No.17\n",
    "n=random.randrange(1,100)\n",
    "nu=int(input('Introduzca el numero el cual usted considera es el correcto')) \n",
    "c=1\n",
    "while nu!=n:\n",
    "    c+=1\n",
    "    if nu>n:\n",
    "        nu=int(input('el numero es mas pequeño'))\n",
    "    elif nu<n:\n",
    "        nu=int(input('el numero es mas grande'))\n",
    "print('felicidades, usted ha adivinado el numero que era:',n)\n",
    "print('el numero de intentos erroneos para este caso fueron:',c,'intentos')   "
   ]
  },
  {
   "cell_type": "code",
   "execution_count": null,
   "metadata": {},
   "outputs": [],
   "source": [
    "#reto No.20\n",
    "#Un año es bisiesto si es múltiplo de 4 pero si el año ternima en 00, no sera bisiesto a menos que\n",
    "#el año sea múltiplo de 400, en cuyo caso, si será bisiesto.\n",
    "def bisiesto(x):\n",
    "    if x%4==0:\n",
    "        if x%100==0:\n",
    "            if x%400==0:\n",
    "                texto='si es un año bisiesto'\n",
    "            else:\n",
    "                texto='no es un año bisiesto'\n",
    "        else:\n",
    "            texto='si es un año bisiesto'\n",
    "    else:\n",
    "        texto='no es un año bisiesto'\n",
    "    return texto\n",
    "x=int(input('introduzca un año entre 1600 y 2500'))\n",
    "print(x,bisiesto(x))"
   ]
  },
  {
   "cell_type": "code",
   "execution_count": null,
   "metadata": {},
   "outputs": [],
   "source": [
    "#reto No.26\n",
    "from random import randint\n",
    "x=randint(1000000,2000000) \n",
    "print(x)\n",
    "x=str(x)\n",
    "par=0\n",
    "for i in x:\n",
    "    if int(i)%2==0:\n",
    "        par+=1\n",
    "print('hay un total de',par,'cifras pares en el numero')\n",
    "print('hay un total de',7-par,'cifras inpares en el numero')\n"
   ]
  },
  {
   "cell_type": "code",
   "execution_count": null,
   "metadata": {},
   "outputs": [],
   "source": [
    "#reto No.27-1\n",
    "from random import randint\n",
    "lista=[]\n",
    "for i in range(10):\n",
    "    w=randint(1,100)\n",
    "    lista.append(w)\n",
    "print(lista)\n",
    "lista.sort()\n",
    "print(lista)\n",
    "print('maximo:',max(lista))\n",
    "print('minimo:',min(lista))\n"
   ]
  },
  {
   "cell_type": "code",
   "execution_count": null,
   "metadata": {},
   "outputs": [],
   "source": [
    "#reto No.27-2\n",
    "from random import randint\n",
    "x=0\n",
    "lista=[]\n",
    "while x<10:\n",
    "    w=randint(1,10)\n",
    "    lista.append(w)\n",
    "    x+=1\n",
    "print(lista)\n",
    "maxi=lista[0]\n",
    "mini=lista[0]\n",
    "for i in range(10):\n",
    "    if lista[i]>=maxi:\n",
    "        maxi=lista[i]\n",
    "    elif lista[i]<=mini:\n",
    "        mini=lista[i]\n",
    "lista.sort()\n",
    "print (lista)\n",
    "print('el mayor es:',maxi)\n",
    "print('el menor es:',mini)"
   ]
  }
 ],
 "metadata": {
  "interpreter": {
   "hash": "e64b1cb8d5f886d465c552ea9f517557d29d1eaa50f8e3cb5214dda08bc8a661"
  },
  "kernelspec": {
   "display_name": "Python 3.9.9 64-bit (windows store)",
   "language": "python",
   "name": "python3"
  },
  "language_info": {
   "codemirror_mode": {
    "name": "ipython",
    "version": 3
   },
   "file_extension": ".py",
   "mimetype": "text/x-python",
   "name": "python",
   "nbconvert_exporter": "python",
   "pygments_lexer": "ipython3",
   "version": "3.9.9"
  },
  "orig_nbformat": 4
 },
 "nbformat": 4,
 "nbformat_minor": 2
}
