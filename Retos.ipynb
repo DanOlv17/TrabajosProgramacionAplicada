{
 "cells": [
  {
   "cell_type": "code",
   "execution_count": 16,
   "metadata": {},
   "outputs": [],
   "source": [
    "#retos de python realizados en jupyther\n",
    "import random"
   ]
  },
  {
   "cell_type": "code",
   "execution_count": 2,
   "metadata": {},
   "outputs": [
    {
     "name": "stdout",
     "output_type": "stream",
     "text": [
      "Numero elegido 26\n",
      "el numero esta entre 10-50\n"
     ]
    }
   ],
   "source": [
    "#reto No.6\n",
    "X= random.randint(1,120)\n",
    "print('Numero elegido',X)\n",
    "d={1:'el numero es menor de 10',2:'el numero esta entre 10-50',3:'el numero es menor de 51-100',4:'el numero es mayor que 100'}\n",
    "z=1+len([i for i in [9,50,100,121]if i<X])\n",
    "print(d[z])"
   ]
  },
  {
   "cell_type": "code",
   "execution_count": 3,
   "metadata": {},
   "outputs": [
    {
     "name": "stdout",
     "output_type": "stream",
     "text": [
      "[10, 12, 14, 16, 18, 20]\n"
     ]
    }
   ],
   "source": [
    "#reto No.8\n",
    "print([i for i in range (10,21) if i%2==0])"
   ]
  },
  {
   "cell_type": "code",
   "execution_count": 4,
   "metadata": {},
   "outputs": [
    {
     "name": "stdout",
     "output_type": "stream",
     "text": [
      "5\n",
      "10\n",
      "15\n",
      "20\n",
      "25\n",
      "el total es: 75\n"
     ]
    }
   ],
   "source": [
    "#reto No.9\n",
    "total=0\n",
    "for x in range(1,26):\n",
    "    if x%5==0:\n",
    "        total+=x\n",
    "        print(x)\n",
    "print(\"el total es:\", total)"
   ]
  },
  {
   "cell_type": "code",
   "execution_count": 5,
   "metadata": {},
   "outputs": [
    {
     "name": "stdout",
     "output_type": "stream",
     "text": [
      "1 1 1\n",
      "2 2 3\n",
      "3 4 7\n",
      "4 8 15\n",
      "5 16 31\n",
      "6 32 63\n",
      "7 64 127\n",
      "8 128 255\n",
      "9 256 511\n",
      "10 512 1023\n",
      "11 1024 2047\n",
      "12 2048 4095\n",
      "13 4096 8191\n",
      "14 8192 16383\n",
      "15 16384 32767\n",
      "16 32768 65535\n",
      "17 65536 131071\n",
      "18 131072 262143\n",
      "19 262144 524287\n",
      "20 524288 1048575\n",
      "21 1048576 2097151\n",
      "22 2097152 4194303\n",
      "23 4194304 8388607\n",
      "24 8388608 16777215\n",
      "25 16777216 33554431\n",
      "26 33554432 67108863\n",
      "27 67108864 134217727\n",
      "28 134217728 268435455\n",
      "29 268435456 536870911\n",
      "30 536870912 1073741823\n",
      "31 1073741824 2147483647\n",
      "32 2147483648 4294967295\n",
      "33 4294967296 8589934591\n",
      "34 8589934592 17179869183\n",
      "35 17179869184 34359738367\n",
      "36 34359738368 68719476735\n",
      "37 68719476736 137438953471\n",
      "38 137438953472 274877906943\n",
      "39 274877906944 549755813887\n",
      "40 549755813888 1099511627775\n",
      "41 1099511627776 2199023255551\n",
      "42 2199023255552 4398046511103\n",
      "43 4398046511104 8796093022207\n",
      "44 8796093022208 17592186044415\n",
      "45 17592186044416 35184372088831\n",
      "46 35184372088832 70368744177663\n",
      "47 70368744177664 140737488355327\n",
      "48 140737488355328 281474976710655\n",
      "49 281474976710656 562949953421311\n",
      "50 562949953421312 1125899906842623\n",
      "51 1125899906842624 2251799813685247\n",
      "52 2251799813685248 4503599627370495\n",
      "53 4503599627370496 9007199254740991\n",
      "54 9007199254740992 18014398509481983\n",
      "55 18014398509481984 36028797018963967\n",
      "56 36028797018963968 72057594037927935\n",
      "57 72057594037927936 144115188075855871\n",
      "58 144115188075855872 288230376151711743\n",
      "59 288230376151711744 576460752303423487\n",
      "60 576460752303423488 1152921504606846975\n",
      "61 1152921504606846976 2305843009213693951\n",
      "62 2305843009213693952 4611686018427387903\n",
      "63 4611686018427387904 9223372036854775807\n",
      "64 9223372036854775808 18446744073709551615\n",
      "unos 737870 millones de toneladas\n",
      "en 2020, la produccion mundial de trigo fue de 772.64 millones de toneladas\n",
      "Esto significa que la produccion mundial tendria que trabajar durante 954.99 años para complacer el deseo de Sissa, el sabio\n"
     ]
    }
   ],
   "source": [
    "#reto No.10\n",
    "#La leyenda del tablero de ajedrez y los granos de trigo\n",
    "i=0\n",
    "s=0\n",
    "while i<64:\n",
    "    s+=2**i\n",
    "    print(i+1,2**i,s)\n",
    "    i+=1\n",
    "print('unos',int(round(s/25000000000000,0)),'millones de toneladas')\n",
    "print('en 2020, la produccion mundial de trigo fue de 772.64 millones de toneladas')\n",
    "print('Esto significa que la produccion mundial tendria que trabajar durante 954.99 años para complacer el deseo de Sissa, el sabio')"
   ]
  },
  {
   "cell_type": "code",
   "execution_count": 6,
   "metadata": {},
   "outputs": [
    {
     "name": "stdout",
     "output_type": "stream",
     "text": [
      "el primer numero ingresado es: 50.0\n",
      "el segundo numero ingresado es: 20.0\n",
      "su media es: 35.0\n"
     ]
    }
   ],
   "source": [
    "#reto No.13\n",
    "x=float(input(\"Ingrese el primer numero\"))\n",
    "y=float(input(\"ingrese el segundo numero\"))\n",
    "z=(x+y)/2\n",
    "print(\"el primer numero ingresado es:\",x)\n",
    "print(\"el segundo numero ingresado es:\",y)\n",
    "print(\"su media es:\",z)"
   ]
  },
  {
   "cell_type": "code",
   "execution_count": 7,
   "metadata": {},
   "outputs": [
    {
     "name": "stdout",
     "output_type": "stream",
     "text": [
      "para salir pulse enter o un caracter no numerico.\n",
      "[50.0]\n",
      "media = 50.0\n",
      "[50.0, 25.0]\n",
      "media = 37.5\n",
      "[50.0, 25.0, 30.0]\n",
      "media = 35.0\n",
      "[50.0, 25.0, 30.0, 60.0]\n",
      "media = 41.25\n"
     ]
    }
   ],
   "source": [
    "#reto No.15\n",
    "numeros=[]\n",
    "print('para salir pulse enter o un caracter no numerico.')\n",
    "def is_number(s):\n",
    "    try:\n",
    "        float (s)\n",
    "        return True\n",
    "    except ValueError:\n",
    "        return False\n",
    "while True:\n",
    "        z=input('Introduzca un numero:')\n",
    "        if is_number(z):\n",
    "            numeros.append(float(z))\n",
    "        else:\n",
    "            break\n",
    "        print(numeros)\n",
    "        if len(numeros)!=0:\n",
    "            print('media =', sum(numeros)/len(numeros))"
   ]
  },
  {
   "cell_type": "code",
   "execution_count": 9,
   "metadata": {},
   "outputs": [
    {
     "name": "stdout",
     "output_type": "stream",
     "text": [
      "felicidades, usted ha adivinado el numero que era: 86\n",
      "el numero de intentos erroneos para este caso fueron: 10 intentos\n"
     ]
    }
   ],
   "source": [
    "#reto No.17\n",
    "n=random.randrange(1,100)\n",
    "nu=int(input('Introduzca el numero el cual usted considera es el correcto')) \n",
    "c=1\n",
    "while nu!=n:\n",
    "    c+=1\n",
    "    if nu>n:\n",
    "        nu=int(input('el numero es mas pequeño'))\n",
    "    elif nu<n:\n",
    "        nu=int(input('el numero es mas grande'))\n",
    "print('felicidades, usted ha adivinado el numero que era:',n)\n",
    "print('el numero de intentos erroneos para este caso fueron:',c,'intentos')   "
   ]
  },
  {
   "cell_type": "code",
   "execution_count": 12,
   "metadata": {},
   "outputs": [
    {
     "name": "stdout",
     "output_type": "stream",
     "text": [
      "1992 si es un año bisiesto\n"
     ]
    }
   ],
   "source": [
    "#reto No.20\n",
    "#Un año es bisiesto si es múltiplo de 4 pero si el año ternima en 00, no sera bisiesto a menos que\n",
    "#el año sea múltiplo de 400, en cuyo caso, si será bisiesto.\n",
    "def bisiesto(x):\n",
    "    if x%4==0:\n",
    "        if x%100==0:\n",
    "            if x%400==0:\n",
    "                texto='si es un año bisiesto'\n",
    "            else:\n",
    "                texto='no es un año bisiesto'\n",
    "        else:\n",
    "            texto='si es un año bisiesto'\n",
    "    else:\n",
    "        texto='no es un año bisiesto'\n",
    "    return texto\n",
    "x=int(input('introduzca un año entre 1600 y 2500'))\n",
    "print(x,bisiesto(x))"
   ]
  },
  {
   "cell_type": "code",
   "execution_count": 13,
   "metadata": {},
   "outputs": [
    {
     "name": "stdout",
     "output_type": "stream",
     "text": [
      "1885213\n",
      "hay un total de 3 cifras pares en el numero\n",
      "hay un total de 4 cifras inpares en el numero\n"
     ]
    }
   ],
   "source": [
    "#reto No.26\n",
    "from random import randint\n",
    "x=randint(1000000,2000000) \n",
    "print(x)\n",
    "x=str(x)\n",
    "par=0\n",
    "for i in x:\n",
    "    if int(i)%2==0:\n",
    "        par+=1\n",
    "print('hay un total de',par,'cifras pares en el numero')\n",
    "print('hay un total de',7-par,'cifras inpares en el numero')\n"
   ]
  },
  {
   "cell_type": "code",
   "execution_count": 14,
   "metadata": {},
   "outputs": [
    {
     "name": "stdout",
     "output_type": "stream",
     "text": [
      "[96, 32, 91, 56, 75, 16, 68, 5, 86, 88]\n",
      "[5, 16, 32, 56, 68, 75, 86, 88, 91, 96]\n",
      "maximo: 96\n",
      "minimo: 5\n"
     ]
    }
   ],
   "source": [
    "#reto No.27-1\n",
    "from random import randint\n",
    "lista=[]\n",
    "for i in range(10):\n",
    "    w=randint(1,100)\n",
    "    lista.append(w)\n",
    "print(lista)\n",
    "lista.sort()\n",
    "print(lista)\n",
    "print('maximo:',max(lista))\n",
    "print('minimo:',min(lista))\n"
   ]
  },
  {
   "cell_type": "code",
   "execution_count": 15,
   "metadata": {},
   "outputs": [
    {
     "name": "stdout",
     "output_type": "stream",
     "text": [
      "[7, 3, 1, 3, 2, 3, 3, 4, 4, 6]\n",
      "[1, 2, 3, 3, 3, 3, 4, 4, 6, 7]\n",
      "el mayor es: 7\n",
      "el menor es: 1\n"
     ]
    }
   ],
   "source": [
    "#reto No.27-2\n",
    "from random import randint\n",
    "x=0\n",
    "lista=[]\n",
    "while x<10:\n",
    "    w=randint(1,10)\n",
    "    lista.append(w)\n",
    "    x+=1\n",
    "print(lista)\n",
    "maxi=lista[0]\n",
    "mini=lista[0]\n",
    "for i in range(10):\n",
    "    if lista[i]>=maxi:\n",
    "        maxi=lista[i]\n",
    "    elif lista[i]<=mini:\n",
    "        mini=lista[i]\n",
    "lista.sort()\n",
    "print (lista)\n",
    "print('el mayor es:',maxi)\n",
    "print('el menor es:',mini)"
   ]
  }
 ],
 "metadata": {
  "interpreter": {
   "hash": "e64b1cb8d5f886d465c552ea9f517557d29d1eaa50f8e3cb5214dda08bc8a661"
  },
  "kernelspec": {
   "display_name": "Python 3.9.9 64-bit (windows store)",
   "language": "python",
   "name": "python3"
  },
  "language_info": {
   "codemirror_mode": {
    "name": "ipython",
    "version": 3
   },
   "file_extension": ".py",
   "mimetype": "text/x-python",
   "name": "python",
   "nbconvert_exporter": "python",
   "pygments_lexer": "ipython3",
   "version": "3.9.9"
  },
  "orig_nbformat": 4
 },
 "nbformat": 4,
 "nbformat_minor": 2
}
