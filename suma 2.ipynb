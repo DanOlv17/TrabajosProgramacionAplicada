{
  "nbformat": 4,
  "nbformat_minor": 0,
  "metadata": {
    "colab": {
      "name": "Untitled0.ipynb",
      "provenance": [],
      "authorship_tag": "ABX9TyN7m+QPAABktgWoukQCyN9k",
      "include_colab_link": true
    },
    "kernelspec": {
      "name": "python3",
      "display_name": "Python 3"
    },
    "language_info": {
      "name": "python"
    }
  },
  "cells": [
    {
      "cell_type": "markdown",
      "metadata": {
        "id": "view-in-github",
        "colab_type": "text"
      },
      "source": [
        "<a href=\"https://colab.research.google.com/github/DanOlv17/TrabajosProgramacionAplicada/blob/main/suma%202.ipynb\" target=\"_parent\"><img src=\"https://colab.research.google.com/assets/colab-badge.svg\" alt=\"Open In Colab\"/></a>"
      ]
    },
    {
      "cell_type": "code",
      "metadata": {
        "id": "KyITZHiBSBiO"
      },
      "source": [
        "def llena_lista_1(A,B):\n",
        "  n = len(A)//2\n",
        "  C=[]\n",
        "  for i in range(n):\n",
        "      d= A[1+i]^2\n",
        "      e= B[2*i]*d\n",
        "      f=B[n+i]+d\n",
        "      C.append(f)\n",
        "  return C"
      ],
      "execution_count": 23,
      "outputs": []
    },
    {
      "cell_type": "code",
      "metadata": {
        "colab": {
          "base_uri": "https://localhost:8080/"
        },
        "id": "JM1jZDLBUYE7",
        "outputId": "4f807c53-95bc-4981-cb6f-34b63c97b1ec"
      },
      "source": [
        "A=[4,6,8,2]\n",
        "B=[2,1,0,-1]\n",
        "llena_lista_1(A,B)"
      ],
      "execution_count": 24,
      "outputs": [
        {
          "output_type": "execute_result",
          "data": {
            "text/plain": [
              "[4, 9]"
            ]
          },
          "metadata": {},
          "execution_count": 24
        }
      ]
    }
  ]
}