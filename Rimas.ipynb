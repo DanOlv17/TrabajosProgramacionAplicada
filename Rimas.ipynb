{
  "nbformat": 4,
  "nbformat_minor": 0,
  "metadata": {
    "colab": {
      "name": "Untitled1.ipynb",
      "provenance": [],
      "authorship_tag": "ABX9TyNY8TppvQ/+3XrzJwLLUJke",
      "include_colab_link": true
    },
    "kernelspec": {
      "name": "python3",
      "display_name": "Python 3"
    },
    "language_info": {
      "name": "python"
    }
  },
  "cells": [
    {
      "cell_type": "markdown",
      "metadata": {
        "id": "view-in-github",
        "colab_type": "text"
      },
      "source": [
        "<a href=\"https://colab.research.google.com/github/DanOlv17/TrabajosProgramacionAplicada/blob/main/Rimas.ipynb\" target=\"_parent\"><img src=\"https://colab.research.google.com/assets/colab-badge.svg\" alt=\"Open In Colab\"/></a>"
      ]
    },
    {
      "cell_type": "code",
      "metadata": {
        "colab": {
          "base_uri": "https://localhost:8080/"
        },
        "id": "CEOh_-ke7OeY",
        "outputId": "e533485c-56bf-40c5-fc98-b58a606dbd62"
      },
      "source": [
        "archivo  = open('palabras500.csv', encoding=\"utf-8\")\n",
        "lineas = archivo.readlines()\n",
        "archivo.close()\n",
        "\n",
        "len(lineas)"
      ],
      "execution_count": null,
      "outputs": [
        {
          "output_type": "execute_result",
          "data": {
            "text/plain": [
              "500"
            ]
          },
          "metadata": {},
          "execution_count": 14
        }
      ]
    },
    {
      "cell_type": "code",
      "metadata": {
        "colab": {
          "base_uri": "https://localhost:8080/"
        },
        "id": "zUjuPiej-K2h",
        "outputId": "3067d05d-5093-4aca-95b1-ec2854807ff1"
      },
      "source": [
        "palabra  = input('Escriba una palabra: ')\n",
        "if palabra+'\\n' in lineas:\n",
        "    print('Sí es de las 500 más comunes')\n",
        "else:\n",
        "    print('No es de las 500 más comunes')"
      ],
      "execution_count": null,
      "outputs": [
        {
          "output_type": "stream",
          "name": "stdout",
          "text": [
            "Escriba una palabra: de\n",
            "Sí es de las 500 más comunes\n"
          ]
        }
      ]
    },
    {
      "cell_type": "code",
      "metadata": {
        "id": "EI0G7MCh-O0K"
      },
      "source": [
        "    def rima(final):\n",
        "      final=final+'\\n' \n",
        "      final = input('escriba el fonema que quiere buscar:')\n",
        "      if final+'\\n' in lineas:\n",
        "        print(palabra)\n",
        "      else:\n",
        "        print('No hay palabras que rimen con ese fonema en nuestra base de datos')\n",
        "        ult_tres_p1 = palabra1[-3:] \n",
        "ult_tres_p2 = palabra2[-3:]\n",
        "ult_dos_p1 = palabra1[-2:]\n",
        "ult_dos_p2 = palabra2[-2:]\n",
        " \n",
        "if ult_tres_p1 == ult_tres_p2:\n",
        "    print(\"Las palabras riman\")\n",
        "elif ult_dos_p1 == ult_dos_p2:\n",
        "    print(\"Las palabras riman un poco\")\n",
        "else:\n",
        "    print(\"Las palabras no riman\")"
      ],
      "execution_count": null,
      "outputs": []
    },
    {
      "cell_type": "code",
      "metadata": {
        "colab": {
          "base_uri": "https://localhost:8080/"
        },
        "id": "bVfGhU6vAr4C",
        "outputId": "4d29abbe-5a40-4fcc-c4eb-ba42da938c06"
      },
      "source": [
        "rima('on')"
      ],
      "execution_count": null,
      "outputs": [
        {
          "output_type": "stream",
          "name": "stdout",
          "text": [
            "escriba el fonema que quiere buscar:on\n",
            "No hay palabras que rimen con ese fonema en nuestra base de datos\n"
          ]
        }
      ]
    }
  ]
}