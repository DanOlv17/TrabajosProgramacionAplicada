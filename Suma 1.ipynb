{
  "nbformat": 4,
  "nbformat_minor": 0,
  "metadata": {
    "colab": {
      "name": "Untitled1.ipynb",
      "provenance": [],
      "authorship_tag": "ABX9TyPJ1CIg9kBszFZ0U4/usdEE",
      "include_colab_link": true
    },
    "kernelspec": {
      "name": "python3",
      "display_name": "Python 3"
    },
    "language_info": {
      "name": "python"
    }
  },
  "cells": [
    {
      "cell_type": "markdown",
      "metadata": {
        "id": "view-in-github",
        "colab_type": "text"
      },
      "source": [
        "<a href=\"https://colab.research.google.com/github/DanOlv17/TrabajosProgramacionAplicada/blob/main/Suma%201.ipynb\" target=\"_parent\"><img src=\"https://colab.research.google.com/assets/colab-badge.svg\" alt=\"Open In Colab\"/></a>"
      ]
    },
    {
      "cell_type": "code",
      "metadata": {
        "id": "ohUAg-hZYPSr"
      },
      "source": [
        "def sumatoria_1(A,B,C):\n",
        "  n = len(A)\n",
        "  acumulador=0\n",
        "  for i in range(n):\n",
        "   d= A[i]+B[i]\n",
        "   e= C[i]+d\n",
        "   acumulador = acumulador + e\n",
        "  resultado = acumulador * n^2\n",
        "  return resultado"
      ],
      "execution_count": 3,
      "outputs": []
    },
    {
      "cell_type": "code",
      "metadata": {
        "colab": {
          "base_uri": "https://localhost:8080/"
        },
        "id": "SH5e1LjUYRQP",
        "outputId": "b52e3563-8b36-48d7-aad6-4fc71c7cb455"
      },
      "source": [
        "A=[4,6,8]\n",
        "B=[2,2,2]\n",
        "C=[1,2,3]\n",
        "sumatoria_1(A,B,C)"
      ],
      "execution_count": 4,
      "outputs": [
        {
          "output_type": "execute_result",
          "data": {
            "text/plain": [
              "88"
            ]
          },
          "metadata": {},
          "execution_count": 4
        }
      ]
    },
    {
      "cell_type": "code",
      "metadata": {
        "id": "vIUAZM0abtZl"
      },
      "source": [
        ""
      ],
      "execution_count": null,
      "outputs": []
    }
  ]
}